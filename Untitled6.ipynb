{
  "nbformat": 4,
  "nbformat_minor": 0,
  "metadata": {
    "colab": {
      "provenance": [],
      "authorship_tag": "ABX9TyNbq0199dgrmeaFIgCOcQWt",
      "include_colab_link": true
    },
    "kernelspec": {
      "name": "python3",
      "display_name": "Python 3"
    },
    "language_info": {
      "name": "python"
    }
  },
  "cells": [
    {
      "cell_type": "markdown",
      "metadata": {
        "id": "view-in-github",
        "colab_type": "text"
      },
      "source": [
        "<a href=\"https://colab.research.google.com/github/tiwari101/DSV-assignment/blob/main/Untitled6.ipynb\" target=\"_parent\"><img src=\"https://colab.research.google.com/assets/colab-badge.svg\" alt=\"Open In Colab\"/></a>"
      ]
    },
    {
      "cell_type": "code",
      "execution_count": 1,
      "metadata": {
        "colab": {
          "base_uri": "https://localhost:8080/"
        },
        "id": "d5Bwt7on7pzF",
        "outputId": "bca57531-4bad-4dd8-a0d2-3d3b39a786e0"
      },
      "outputs": [
        {
          "output_type": "stream",
          "name": "stdout",
          "text": [
            "Number of samples in the training set: 90\n",
            "Number of samples in the testing set: 60\n"
          ]
        }
      ],
      "source": [
        "#Import necessary libraries\n",
        "from sklearn.model_selection import train_test_split\n",
        "from sklearn.datasets import load_iris\n",
        "\n",
        "#Load the Iris dataset\n",
        "iris = load_iris()\n",
        "\n",
        "#Split the data into features (X) and target labels (y)\n",
        "X = iris.data  # Features (sepal length, sepal width, petal length, petal width)\n",
        "y = iris.target  # Labels (target species)\n",
        "\n",
        "#Split the dataset into training and testing sets (80% training, 20% testing)\n",
        "X_train, X_test, y_train, y_test = train_test_split(X, y, test_size=0.4, random_state=32)\n",
        "\n",
        "#Print the number of samples in the training and testing sets\n",
        "print(\"Number of samples in the training set:\", X_train.shape[0])\n",
        "print(\"Number of samples in the testing set:\", X_test.shape[0])"
      ]
    }
  ]
}